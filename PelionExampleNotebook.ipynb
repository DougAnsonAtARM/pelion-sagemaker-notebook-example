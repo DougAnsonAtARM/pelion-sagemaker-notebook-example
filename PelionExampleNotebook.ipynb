{
 "cells": [
  {
   "cell_type": "markdown",
   "metadata": {},
   "source": [
    "This notebook will demonstrate a iterative training and deployment process of an Imagenet-based image recognition "
   ]
  },
  {
   "cell_type": "markdown",
   "metadata": {},
   "source": [
    "First, we define all of our parameters that will be used in the notebook"
   ]
  },
  {
   "cell_type": "code",
   "execution_count": null,
   "metadata": {},
   "outputs": [],
   "source": [
    "# Setup our Sagemaker configuration tunables\n",
    "aws_region = 'us-east-1'\n",
    "\n",
    "# We will use the Keras mobilenet V2 model\n",
    "model_framework = 'keras'\n",
    "model_name = 'demo-' + model_framework\n",
    "model_basename = 'mobilenet_v2'\n",
    "model_data_shape = '{\"input_1\":[1,3,224,224]}'\n",
    "packaged_model_name = model_framework + \"-model\"\n",
    "packaged_model_version = \"1.0\"\n",
    "\n",
    "# Input images\n",
    "input_image_1 = 'keras.bmp'\n",
    "input_image_2 = 'darknet.bmp'\n",
    "input_image_3 = 'plane.jpeg'\n",
    "\n",
    "# Our Pelion Edge Gateway is a Nvidia Jetson Xavier\n",
    "target_device = 'jetson_xavier'\n",
    "\n",
    "# Set our Pelion API Configuration Here\n",
    "api_key = 'ak_2MDE2ZmZjZmQwOTgxNGE2OGYxNmFlODQ0MDAwMDAwMDA0176d3f035509609f897638900000000Negxfm3p2PwYYEkqN1VKjqxMlM07HOzA'\n",
    "device_id = '0178a7b9f49516522fada71600300000'\n",
    "endpoint_api = 'api.' + aws_region + '.mbedcloud.com'   # This is optional and the default"
   ]
  },
  {
   "cell_type": "markdown",
   "metadata": {},
   "source": [
    "Next we import some additional packages into our python environment"
   ]
  },
  {
   "cell_type": "code",
   "execution_count": null,
   "metadata": {},
   "outputs": [],
   "source": [
    "# Lets install some image utilities\n",
    "! pip install ipympl\n",
    "\n",
    "# We also need to install the Pelion Sagemaker Controller API\n",
    "! pip install pelion_sagemaker_controller\n",
    "\n",
    "# We also install some image utilities for the NB itself\n",
    "from PIL import Image\n",
    "import matplotlib.pyplot as plt\n",
    "\n",
    "# We'll also use time for waiting on predictions to complete...\n",
    "import time"
   ]
  },
  {
   "cell_type": "markdown",
   "metadata": {},
   "source": [
    "Next we import the core class for this notebook"
   ]
  },
  {
   "cell_type": "code",
   "execution_count": null,
   "metadata": {},
   "outputs": [],
   "source": [
    "import example_notebook"
   ]
  },
  {
   "cell_type": "markdown",
   "metadata": {},
   "source": [
    "Next we allocate our notebook class... this will init both Sagamaker as well as the Pelion Controller API"
   ]
  },
  {
   "cell_type": "code",
   "execution_count": null,
   "metadata": {},
   "outputs": [],
   "source": [
    "my_notebook = example_notebook.MyNotebook(api_key, device_id, endpoint_api)"
   ]
  },
  {
   "cell_type": "markdown",
   "metadata": {},
   "source": [
    "First, lets create a mobilenet V2 model"
   ]
  },
  {
   "cell_type": "code",
   "execution_count": null,
   "metadata": {},
   "outputs": [],
   "source": [
    "import tensorflow as tf\n",
    "mobilenet_model = model = tf.keras.applications.MobileNetV2()"
   ]
  },
  {
   "cell_type": "markdown",
   "metadata": {},
   "source": [
    "Lets compile up our model, then package it on S3"
   ]
  },
  {
   "cell_type": "code",
   "execution_count": null,
   "metadata": {},
   "outputs": [],
   "source": [
    "# Compile up for our target Pelion Edge Gateway platform type\n",
    "job_name = my_notebook.compile_model(mobilenet_model, target_device, model_basename, model_data_shape, model_framework)\n",
    "\n",
    "# Package up and store the compiled model onto S3\n",
    "model_package = my_notebook.package_model(packaged_model_name, packaged_model_version, job_name)"
   ]
  },
  {
   "cell_type": "markdown",
   "metadata": {},
   "source": [
    "Next, we (re)load our model since we have just (re)compiled it and (re)packaged it..."
   ]
  },
  {
   "cell_type": "code",
   "execution_count": null,
   "metadata": {},
   "outputs": [],
   "source": [
    "# (re)load the model...\n",
    "print('Reloading Model: ' + model_name + \" using package: \" + model_package + '...')\n",
    "my_notebook.pelion_api.pelion_reload_model(model_name,model_package)\n",
    "\n",
    "# Poll every 5 sec to look for the reload() completion....\n",
    "while True:\n",
    "    print(\"\")\n",
    "    print(\"Reloading in progress...\")\n",
    "    reload_result = my_notebook.pelion_api.pelion_list_models();\n",
    "    if 'response' in reload_result:\n",
    "        if 'name' in reload_result['response'][0]:\n",
    "            print(\"\")\n",
    "            print('Reload Completed!')\n",
    "            print(\"\")\n",
    "            print(\"Currently Loaded Model(s):\")\n",
    "            print(reload_result)\n",
    "            break\n",
    "    time.sleep(5)"
   ]
  },
  {
   "cell_type": "markdown",
   "metadata": {},
   "source": [
    "Next we will upload our image from our notebook to S3"
   ]
  },
  {
   "cell_type": "code",
   "execution_count": null,
   "metadata": {},
   "outputs": [],
   "source": [
    "# Lets set our input image filename\n",
    "local_input_image = \"images/\" + input_image_1\n",
    "input_image = Image.open(local_input_image)\n",
    "plt.imshow(input_image,cmap='gray',vmin=0,vmax=255)\n",
    "\n",
    "# Upload the image to S3\n",
    "print(\"Uploading \" + input_image_1 + ' to ' + my_notebook.iot_folder + \" in S3 bucket \" + my_notebook.bucket + '...')\n",
    "my_notebook.sess.upload_data(local_input_image, my_notebook.bucket, my_notebook.iot_folder)"
   ]
  },
  {
   "cell_type": "markdown",
   "metadata": {},
   "source": [
    "Now lets do a prediction. We will store the output with the \"keras-predicted.data\" template back to S3 (a timestamp will be added)"
   ]
  },
  {
   "cell_type": "code",
   "execution_count": null,
   "metadata": {},
   "outputs": [],
   "source": [
    "# Invoke the prediction\n",
    "input_data = 's3:///' + input_image_1\n",
    "output_result = 's3:///keras-predicted.data'\n",
    "print(\"Invoking Prediction on Pelion Edge with Sagemaker. Model: \" + model_name + \" Input: \" + input_data + \" Output: \" + output_result)\n",
    "print(\"\")\n",
    "my_notebook.pelion_api.pelion_predict(model_name, input_data, output_result)\n",
    "\n",
    "# Poll every 5 sec to look for the prediction completion....\n",
    "while True:\n",
    "    # Get the last RPC call result...\n",
    "    print(\"\")\n",
    "    print('Prediction Running ...')\n",
    "    prediction_result = my_notebook.pelion_api.pelion_last_cmd_result();\n",
    "    if 'details' in prediction_result:\n",
    "        if 'output' in prediction_result['details']:\n",
    "            print(\"\")\n",
    "            print('Prediction Completed!')\n",
    "            print(\"\")\n",
    "            print(\"Prediction Results:\")\n",
    "            print(prediction_result)\n",
    "            break\n",
    "    time.sleep(5)"
   ]
  },
  {
   "cell_type": "markdown",
   "metadata": {},
   "source": [
    "Next we display our results...."
   ]
  },
  {
   "cell_type": "code",
   "execution_count": null,
   "metadata": {},
   "outputs": [],
   "source": [
    "# Prediction results tensor filename\n",
    "prediction_results_tensor_filename = 'prediction-output.tensor'\n",
    "\n",
    "# Copy the results back to our notebook\n",
    "my_notebook.copy_results_to_notebook(prediction_result['details']['output'][0]['url'],prediction_results_tensor_filename)\n",
    "\n",
    "# Create our Output Tensor\n",
    "tensor = my_notebook.create_output_tensor(\"images/\" + input_image_1, prediction_results_tensor_filename)\n",
    "\n",
    "# use the Imagenet classifier to look at the results (converted to float32 and stored in the tensor with key 'float32_data')\n",
    "print(\"\")\n",
    "print(\"Converting Tensor Byte data to Float32...\")\n",
    "tensor = my_notebook.bytedata_to_float32data(tensor,4)\n",
    "print(\"\")\n",
    "print(\"Invoking Imagenet prediction decoder to get our results...\")\n",
    "my_notebook.imagenet_prediction_analyzer(tensor['float32_data'])\n",
    "\n",
    "# Here is our input image again\n",
    "print(\"\")\n",
    "print(\"Here is the input image again:\")\n",
    "print(\"\")\n",
    "plt.imshow(input_image,cmap='gray',vmin=0,vmax=255)"
   ]
  },
  {
   "cell_type": "markdown",
   "metadata": {},
   "source": [
    "OK... so we have a bit of training to do... "
   ]
  },
  {
   "cell_type": "code",
   "execution_count": null,
   "metadata": {},
   "outputs": [],
   "source": []
  }
 ],
 "metadata": {
  "kernelspec": {
   "display_name": "",
   "name": ""
  },
  "language_info": {
   "name": ""
  }
 },
 "nbformat": 4,
 "nbformat_minor": 4
}
